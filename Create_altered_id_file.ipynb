{
 "cells": [
  {
   "cell_type": "code",
   "execution_count": 2,
   "metadata": {},
   "outputs": [],
   "source": [
    "f = open(\"Ids_shortened.txt\", 'w+') \n",
    "#N = 2500 # change with your convenience   \n",
    "N=9930\n",
    "for i in range(0,N): # If you think 0 is not a natural number\n",
    "\tif i >= 609 and i <=670:\n",
    "\t\tcontinue \n",
    "\tif i >= 1966 and i <= 1979:\n",
    "\t\tcontinue\n",
    "\tif i >= 2532 and i <= 3276:\n",
    "\t\tcontinue\n",
    "\tif i >= 3900 and i <= 4250:\n",
    "\t\tcontinue\n",
    "\tif i >= 5086 and i <= 6758:\n",
    "\t\tcontinue\n",
    "\tif i >= 7543 and i <= 8197:\n",
    "\t\tcontinue\n",
    "\tif i >= 8471 and i <= 8480:\n",
    "\t\tcontinue\n",
    "\tif i >= 8568 and i <= 8591:\n",
    "\t\tcontinue\n",
    "\tif i >= 8805 and i <= 8817:\n",
    "\t\tcontinue\n",
    "\tif i >= 9096 and i <= 9517:\n",
    "\t\tcontinue\n",
    "\tif i >= 9804 and i <= 9818:\n",
    "\t\tcontinue\n",
    "\tif i >= 9882 and i <= 9908:\n",
    "\t\tcontinue\n",
    "\telse: \n",
    "\t\tnumber=(str(i) + \"\\n\")\n",
    "\t\tfull=number.zfill(6)\n",
    "\t\tf.write(str(full)) \n",
    "f.close()"
   ]
  }
 ],
 "metadata": {
  "kernelspec": {
   "display_name": "BEP",
   "language": "python",
   "name": "python3"
  },
  "language_info": {
   "codemirror_mode": {
    "name": "ipython",
    "version": 3
   },
   "file_extension": ".py",
   "mimetype": "text/x-python",
   "name": "python",
   "nbconvert_exporter": "python",
   "pygments_lexer": "ipython3",
   "version": "3.10.13"
  }
 },
 "nbformat": 4,
 "nbformat_minor": 2
}
